{
 "cells": [
  {
   "cell_type": "code",
   "execution_count": 6,
   "metadata": {},
   "outputs": [
    {
     "data": {
      "text/plain": [
       "'/Users/swarnabale/Documents/My Projects/linkedin-ghostwriter-agent/agent'"
      ]
     },
     "execution_count": 6,
     "metadata": {},
     "output_type": "execute_result"
    }
   ],
   "source": [
    "import os\n",
    "os.getcwd()"
   ]
  },
  {
   "cell_type": "code",
   "execution_count": 14,
   "metadata": {},
   "outputs": [
    {
     "name": "stdout",
     "output_type": "stream",
     "text": [
      "../../llm_models\n"
     ]
    }
   ],
   "source": [
    "import os\n",
    "\n",
    "# Absolute path to target directory outside the project\n",
    "project_dir  = '/Users/swarnabale/Documents/My Projects/linkedin-ghostwriter-agent/agent/'\n",
    "\n",
    "# Current project directory\n",
    "external_dir = '/Users/swarnabale/Documents/My Projects/llm_models/'\n",
    "\n",
    "# Get relative path from project to external_dir\n",
    "relative_path = os.path.relpath(external_dir, start=project_dir)\n",
    "\n",
    "print(relative_path)"
   ]
  }
 ],
 "metadata": {
  "kernelspec": {
   "display_name": "linkedin_agent",
   "language": "python",
   "name": "python3"
  },
  "language_info": {
   "codemirror_mode": {
    "name": "ipython",
    "version": 3
   },
   "file_extension": ".py",
   "mimetype": "text/x-python",
   "name": "python",
   "nbconvert_exporter": "python",
   "pygments_lexer": "ipython3",
   "version": "3.9.6"
  }
 },
 "nbformat": 4,
 "nbformat_minor": 2
}
